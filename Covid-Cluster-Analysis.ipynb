{
 "cells": [
  {
   "cell_type": "markdown",
   "metadata": {},
   "source": [
    "## Project 3: Clustering - COVID 19 cases"
   ]
  },
  {
   "cell_type": "markdown",
   "metadata": {},
   "source": [
    "#### Name: Mansi Joshi\n",
    "Student Id: 300317856"
   ]
  },
  {
   "cell_type": "markdown",
   "metadata": {},
   "source": [
    "The purpose of this project is to apply cluster analysis to country-level COVID-19 data \n",
    "to examine the incidence of COVID-19. This will help us uncover country groups as far as \n",
    "COVID-19 crisis is concerned as serve a baseline for policy guidelines at the country level.\n",
    "(When ground truth is unknown, go for clustering)"
   ]
  },
  {
   "cell_type": "markdown",
   "metadata": {},
   "source": [
    "1. Import the data as a dataframe for analysis"
   ]
  },
  {
   "cell_type": "code",
   "execution_count": 14,
   "metadata": {},
   "outputs": [
    {
     "data": {
      "text/html": [
       "<div>\n",
       "<style scoped>\n",
       "    .dataframe tbody tr th:only-of-type {\n",
       "        vertical-align: middle;\n",
       "    }\n",
       "\n",
       "    .dataframe tbody tr th {\n",
       "        vertical-align: top;\n",
       "    }\n",
       "\n",
       "    .dataframe thead th {\n",
       "        text-align: right;\n",
       "    }\n",
       "</style>\n",
       "<table border=\"1\" class=\"dataframe\">\n",
       "  <thead>\n",
       "    <tr style=\"text-align: right;\">\n",
       "      <th></th>\n",
       "      <th>Number</th>\n",
       "      <th>Country</th>\n",
       "      <th>Total Cases</th>\n",
       "      <th>New Cases</th>\n",
       "      <th>Total Deaths</th>\n",
       "      <th>New Deaths</th>\n",
       "      <th>Total Recovered</th>\n",
       "      <th>Active Cases</th>\n",
       "      <th>Critical Cases</th>\n",
       "      <th>Tot Cases/1M pop</th>\n",
       "      <th>Deaths/1M pop</th>\n",
       "      <th>Total Tests</th>\n",
       "      <th>Tests/1M pop</th>\n",
       "      <th>Population</th>\n",
       "    </tr>\n",
       "  </thead>\n",
       "  <tbody>\n",
       "    <tr>\n",
       "      <th>0</th>\n",
       "      <td>1</td>\n",
       "      <td>USA</td>\n",
       "      <td>3,893,949</td>\n",
       "      <td>60,678</td>\n",
       "      <td>143,263</td>\n",
       "      <td>386.0</td>\n",
       "      <td>1,802,110</td>\n",
       "      <td>1,948,576</td>\n",
       "      <td>16,616</td>\n",
       "      <td>11,761</td>\n",
       "      <td>433</td>\n",
       "      <td>48,324,182</td>\n",
       "      <td>145,951</td>\n",
       "      <td>331,097,557</td>\n",
       "    </tr>\n",
       "    <tr>\n",
       "      <th>1</th>\n",
       "      <td>2</td>\n",
       "      <td>Brazil</td>\n",
       "      <td>2,098,389</td>\n",
       "      <td>23,143</td>\n",
       "      <td>79,488</td>\n",
       "      <td>671.0</td>\n",
       "      <td>1,371,229</td>\n",
       "      <td>647,672</td>\n",
       "      <td>8,318</td>\n",
       "      <td>9,869</td>\n",
       "      <td>374</td>\n",
       "      <td>4,911,063</td>\n",
       "      <td>23,096</td>\n",
       "      <td>212,632,374</td>\n",
       "    </tr>\n",
       "    <tr>\n",
       "      <th>2</th>\n",
       "      <td>3</td>\n",
       "      <td>India</td>\n",
       "      <td>1,118,107</td>\n",
       "      <td>40,243</td>\n",
       "      <td>27,503</td>\n",
       "      <td>675.0</td>\n",
       "      <td>700,399</td>\n",
       "      <td>390,205</td>\n",
       "      <td>8,944</td>\n",
       "      <td>810</td>\n",
       "      <td>20</td>\n",
       "      <td>13,791,869</td>\n",
       "      <td>9,989</td>\n",
       "      <td>1,380,641,231</td>\n",
       "    </tr>\n",
       "    <tr>\n",
       "      <th>3</th>\n",
       "      <td>4</td>\n",
       "      <td>Russia</td>\n",
       "      <td>771,546</td>\n",
       "      <td>6,109</td>\n",
       "      <td>12,342</td>\n",
       "      <td>95.0</td>\n",
       "      <td>550,344</td>\n",
       "      <td>208,860</td>\n",
       "      <td>2,300</td>\n",
       "      <td>5,287</td>\n",
       "      <td>85</td>\n",
       "      <td>24,991,740</td>\n",
       "      <td>171,249</td>\n",
       "      <td>145,937,686</td>\n",
       "    </tr>\n",
       "    <tr>\n",
       "      <th>4</th>\n",
       "      <td>5</td>\n",
       "      <td>South Africa</td>\n",
       "      <td>364,328</td>\n",
       "      <td>13,449</td>\n",
       "      <td>5,033</td>\n",
       "      <td>85.0</td>\n",
       "      <td>191,059</td>\n",
       "      <td>168,236</td>\n",
       "      <td>539</td>\n",
       "      <td>6,139</td>\n",
       "      <td>85</td>\n",
       "      <td>2,471,747</td>\n",
       "      <td>41,652</td>\n",
       "      <td>59,342,751</td>\n",
       "    </tr>\n",
       "  </tbody>\n",
       "</table>\n",
       "</div>"
      ],
      "text/plain": [
       "   Number       Country Total Cases New Cases Total Deaths  New Deaths  \\\n",
       "0       1           USA   3,893,949    60,678      143,263       386.0   \n",
       "1       2        Brazil   2,098,389    23,143       79,488       671.0   \n",
       "2       3         India   1,118,107    40,243       27,503       675.0   \n",
       "3       4        Russia     771,546     6,109       12,342        95.0   \n",
       "4       5  South Africa     364,328    13,449        5,033        85.0   \n",
       "\n",
       "  Total Recovered Active Cases Critical Cases Tot Cases/1M pop Deaths/1M pop  \\\n",
       "0       1,802,110    1,948,576         16,616           11,761           433   \n",
       "1       1,371,229      647,672          8,318            9,869           374   \n",
       "2         700,399      390,205          8,944              810            20   \n",
       "3         550,344      208,860          2,300            5,287            85   \n",
       "4         191,059      168,236            539            6,139            85   \n",
       "\n",
       "  Total Tests Tests/1M pop     Population  \n",
       "0  48,324,182      145,951    331,097,557  \n",
       "1   4,911,063       23,096    212,632,374  \n",
       "2  13,791,869        9,989  1,380,641,231  \n",
       "3  24,991,740      171,249    145,937,686  \n",
       "4   2,471,747       41,652     59,342,751  "
      ]
     },
     "execution_count": 14,
     "metadata": {},
     "output_type": "execute_result"
    }
   ],
   "source": [
    "import numpy as np\n",
    "import pandas as pd\n",
    "from sklearn.preprocessing import StandardScaler\n",
    "import scipy.cluster.hierarchy as shc\n",
    "import matplotlib.pyplot as plt\n",
    "from sklearn.cluster import KMeans\n",
    "from sklearn.cluster import AgglomerativeClustering\n",
    "from sklearn.metrics import silhouette_score, calinski_harabasz_score, davies_bouldin_score\n",
    "\n",
    "df = pd.read_csv(\"World_Covid19_cases.csv\", sep = ',')\n",
    "df.head()"
   ]
  },
  {
   "cell_type": "markdown",
   "metadata": {},
   "source": [
    "2. Perform the necessary preprocessing of the data to include:"
   ]
  },
  {
   "cell_type": "code",
   "execution_count": 15,
   "metadata": {},
   "outputs": [
    {
     "name": "stderr",
     "output_type": "stream",
     "text": [
      "C:\\Users\\joshi\\anaconda3\\lib\\site-packages\\ipykernel_launcher.py:11: SettingWithCopyWarning: \n",
      "A value is trying to be set on a copy of a slice from a DataFrame.\n",
      "Try using .loc[row_indexer,col_indexer] = value instead\n",
      "\n",
      "See the caveats in the documentation: https://pandas.pydata.org/pandas-docs/stable/user_guide/indexing.html#returning-a-view-versus-a-copy\n",
      "  # This is added back by InteractiveShellApp.init_path()\n",
      "C:\\Users\\joshi\\anaconda3\\lib\\site-packages\\ipykernel_launcher.py:12: SettingWithCopyWarning: \n",
      "A value is trying to be set on a copy of a slice from a DataFrame.\n",
      "Try using .loc[row_indexer,col_indexer] = value instead\n",
      "\n",
      "See the caveats in the documentation: https://pandas.pydata.org/pandas-docs/stable/user_guide/indexing.html#returning-a-view-versus-a-copy\n",
      "  if sys.path[0] == '':\n",
      "C:\\Users\\joshi\\anaconda3\\lib\\site-packages\\ipykernel_launcher.py:13: SettingWithCopyWarning: \n",
      "A value is trying to be set on a copy of a slice from a DataFrame.\n",
      "Try using .loc[row_indexer,col_indexer] = value instead\n",
      "\n",
      "See the caveats in the documentation: https://pandas.pydata.org/pandas-docs/stable/user_guide/indexing.html#returning-a-view-versus-a-copy\n",
      "  del sys.path[0]\n",
      "C:\\Users\\joshi\\anaconda3\\lib\\site-packages\\ipykernel_launcher.py:14: SettingWithCopyWarning: \n",
      "A value is trying to be set on a copy of a slice from a DataFrame.\n",
      "Try using .loc[row_indexer,col_indexer] = value instead\n",
      "\n",
      "See the caveats in the documentation: https://pandas.pydata.org/pandas-docs/stable/user_guide/indexing.html#returning-a-view-versus-a-copy\n",
      "  \n",
      "C:\\Users\\joshi\\anaconda3\\lib\\site-packages\\ipykernel_launcher.py:15: SettingWithCopyWarning: \n",
      "A value is trying to be set on a copy of a slice from a DataFrame.\n",
      "Try using .loc[row_indexer,col_indexer] = value instead\n",
      "\n",
      "See the caveats in the documentation: https://pandas.pydata.org/pandas-docs/stable/user_guide/indexing.html#returning-a-view-versus-a-copy\n",
      "  from ipykernel import kernelapp as app\n",
      "C:\\Users\\joshi\\anaconda3\\lib\\site-packages\\ipykernel_launcher.py:16: SettingWithCopyWarning: \n",
      "A value is trying to be set on a copy of a slice from a DataFrame.\n",
      "Try using .loc[row_indexer,col_indexer] = value instead\n",
      "\n",
      "See the caveats in the documentation: https://pandas.pydata.org/pandas-docs/stable/user_guide/indexing.html#returning-a-view-versus-a-copy\n",
      "  app.launch_new_instance()\n",
      "C:\\Users\\joshi\\anaconda3\\lib\\site-packages\\ipykernel_launcher.py:17: SettingWithCopyWarning: \n",
      "A value is trying to be set on a copy of a slice from a DataFrame.\n",
      "Try using .loc[row_indexer,col_indexer] = value instead\n",
      "\n",
      "See the caveats in the documentation: https://pandas.pydata.org/pandas-docs/stable/user_guide/indexing.html#returning-a-view-versus-a-copy\n"
     ]
    },
    {
     "data": {
      "text/html": [
       "<div>\n",
       "<style scoped>\n",
       "    .dataframe tbody tr th:only-of-type {\n",
       "        vertical-align: middle;\n",
       "    }\n",
       "\n",
       "    .dataframe tbody tr th {\n",
       "        vertical-align: top;\n",
       "    }\n",
       "\n",
       "    .dataframe thead th {\n",
       "        text-align: right;\n",
       "    }\n",
       "</style>\n",
       "<table border=\"1\" class=\"dataframe\">\n",
       "  <thead>\n",
       "    <tr style=\"text-align: right;\">\n",
       "      <th></th>\n",
       "      <th>Country</th>\n",
       "      <th>Total Cases</th>\n",
       "      <th>Total Deaths</th>\n",
       "      <th>Total Recovered</th>\n",
       "      <th>Active Cases</th>\n",
       "      <th>Critical Cases</th>\n",
       "      <th>Total Tests</th>\n",
       "      <th>Population</th>\n",
       "    </tr>\n",
       "  </thead>\n",
       "  <tbody>\n",
       "    <tr>\n",
       "      <th>0</th>\n",
       "      <td>USA</td>\n",
       "      <td>3893949</td>\n",
       "      <td>143263</td>\n",
       "      <td>1802110</td>\n",
       "      <td>1948576</td>\n",
       "      <td>16616</td>\n",
       "      <td>48324182</td>\n",
       "      <td>331097557</td>\n",
       "    </tr>\n",
       "    <tr>\n",
       "      <th>1</th>\n",
       "      <td>Brazil</td>\n",
       "      <td>2098389</td>\n",
       "      <td>79488</td>\n",
       "      <td>1371229</td>\n",
       "      <td>647672</td>\n",
       "      <td>8318</td>\n",
       "      <td>4911063</td>\n",
       "      <td>212632374</td>\n",
       "    </tr>\n",
       "    <tr>\n",
       "      <th>2</th>\n",
       "      <td>India</td>\n",
       "      <td>1118107</td>\n",
       "      <td>27503</td>\n",
       "      <td>700399</td>\n",
       "      <td>390205</td>\n",
       "      <td>8944</td>\n",
       "      <td>13791869</td>\n",
       "      <td>1380641231</td>\n",
       "    </tr>\n",
       "    <tr>\n",
       "      <th>3</th>\n",
       "      <td>Russia</td>\n",
       "      <td>771546</td>\n",
       "      <td>12342</td>\n",
       "      <td>550344</td>\n",
       "      <td>208860</td>\n",
       "      <td>2300</td>\n",
       "      <td>24991740</td>\n",
       "      <td>145937686</td>\n",
       "    </tr>\n",
       "    <tr>\n",
       "      <th>4</th>\n",
       "      <td>South Africa</td>\n",
       "      <td>364328</td>\n",
       "      <td>5033</td>\n",
       "      <td>191059</td>\n",
       "      <td>168236</td>\n",
       "      <td>539</td>\n",
       "      <td>2471747</td>\n",
       "      <td>59342751</td>\n",
       "    </tr>\n",
       "  </tbody>\n",
       "</table>\n",
       "</div>"
      ],
      "text/plain": [
       "        Country Total Cases Total Deaths Total Recovered Active Cases  \\\n",
       "0           USA     3893949       143263         1802110      1948576   \n",
       "1        Brazil     2098389        79488         1371229       647672   \n",
       "2         India     1118107        27503          700399       390205   \n",
       "3        Russia      771546        12342          550344       208860   \n",
       "4  South Africa      364328         5033          191059       168236   \n",
       "\n",
       "  Critical Cases Total Tests  Population  \n",
       "0          16616    48324182   331097557  \n",
       "1           8318     4911063   212632374  \n",
       "2           8944    13791869  1380641231  \n",
       "3           2300    24991740   145937686  \n",
       "4            539     2471747    59342751  "
      ]
     },
     "execution_count": 15,
     "metadata": {},
     "output_type": "execute_result"
    }
   ],
   "source": [
    "#a) Select ONLY the following columns for further processing: \n",
    "#Country, Total Cases, Total Deaths, Total Recovered, Active Cases, Critical Cases, Total Tests, Population.\n",
    "\n",
    "cols = ['Country', 'Total Cases', 'Total Deaths', 'Total Recovered', \n",
    "        'Active Cases', 'Critical Cases', 'Total Tests', 'Population']\n",
    "countryCol = df['Country']\n",
    "df1 = df[cols]\n",
    "\n",
    "#b) Remove the comma (i.e., “,”) number separater from numeric columns.\n",
    "\n",
    "df1['Total Cases'] = df1['Total Cases'].str.replace(',', '')\n",
    "df1['Total Deaths'] = df1['Total Deaths'].str.replace(',', '')\n",
    "df1['Total Recovered'] = df1['Total Recovered'].str.replace(',', '')\n",
    "df1['Active Cases'] = df1['Active Cases'].str.replace(',', '')\n",
    "df1['Critical Cases'] = df1['Critical Cases'].str.replace(',', '')\n",
    "df1['Total Tests'] = df1['Total Tests'].str.replace(',', '')\n",
    "df1['Population'] = df1['Population'].str.replace(',', '')\n",
    "df1.head()"
   ]
  },
  {
   "cell_type": "code",
   "execution_count": 16,
   "metadata": {},
   "outputs": [
    {
     "data": {
      "text/html": [
       "<div>\n",
       "<style scoped>\n",
       "    .dataframe tbody tr th:only-of-type {\n",
       "        vertical-align: middle;\n",
       "    }\n",
       "\n",
       "    .dataframe tbody tr th {\n",
       "        vertical-align: top;\n",
       "    }\n",
       "\n",
       "    .dataframe thead th {\n",
       "        text-align: right;\n",
       "    }\n",
       "</style>\n",
       "<table border=\"1\" class=\"dataframe\">\n",
       "  <thead>\n",
       "    <tr style=\"text-align: right;\">\n",
       "      <th></th>\n",
       "      <th>Total Cases</th>\n",
       "      <th>Total Deaths</th>\n",
       "      <th>Total Recovered</th>\n",
       "      <th>Active Cases</th>\n",
       "      <th>Critical Cases</th>\n",
       "      <th>Total Tests</th>\n",
       "      <th>Population</th>\n",
       "    </tr>\n",
       "  </thead>\n",
       "  <tbody>\n",
       "    <tr>\n",
       "      <th>0</th>\n",
       "      <td>3893949.0</td>\n",
       "      <td>143263.0</td>\n",
       "      <td>1802110.0</td>\n",
       "      <td>1948576.0</td>\n",
       "      <td>16616.0</td>\n",
       "      <td>48324182.0</td>\n",
       "      <td>3.310976e+08</td>\n",
       "    </tr>\n",
       "    <tr>\n",
       "      <th>1</th>\n",
       "      <td>2098389.0</td>\n",
       "      <td>79488.0</td>\n",
       "      <td>1371229.0</td>\n",
       "      <td>647672.0</td>\n",
       "      <td>8318.0</td>\n",
       "      <td>4911063.0</td>\n",
       "      <td>2.126324e+08</td>\n",
       "    </tr>\n",
       "    <tr>\n",
       "      <th>2</th>\n",
       "      <td>1118107.0</td>\n",
       "      <td>27503.0</td>\n",
       "      <td>700399.0</td>\n",
       "      <td>390205.0</td>\n",
       "      <td>8944.0</td>\n",
       "      <td>13791869.0</td>\n",
       "      <td>1.380641e+09</td>\n",
       "    </tr>\n",
       "    <tr>\n",
       "      <th>3</th>\n",
       "      <td>771546.0</td>\n",
       "      <td>12342.0</td>\n",
       "      <td>550344.0</td>\n",
       "      <td>208860.0</td>\n",
       "      <td>2300.0</td>\n",
       "      <td>24991740.0</td>\n",
       "      <td>1.459377e+08</td>\n",
       "    </tr>\n",
       "    <tr>\n",
       "      <th>4</th>\n",
       "      <td>364328.0</td>\n",
       "      <td>5033.0</td>\n",
       "      <td>191059.0</td>\n",
       "      <td>168236.0</td>\n",
       "      <td>539.0</td>\n",
       "      <td>2471747.0</td>\n",
       "      <td>5.934275e+07</td>\n",
       "    </tr>\n",
       "  </tbody>\n",
       "</table>\n",
       "</div>"
      ],
      "text/plain": [
       "   Total Cases  Total Deaths  Total Recovered  Active Cases  Critical Cases  \\\n",
       "0    3893949.0      143263.0        1802110.0     1948576.0         16616.0   \n",
       "1    2098389.0       79488.0        1371229.0      647672.0          8318.0   \n",
       "2    1118107.0       27503.0         700399.0      390205.0          8944.0   \n",
       "3     771546.0       12342.0         550344.0      208860.0          2300.0   \n",
       "4     364328.0        5033.0         191059.0      168236.0           539.0   \n",
       "\n",
       "   Total Tests    Population  \n",
       "0   48324182.0  3.310976e+08  \n",
       "1    4911063.0  2.126324e+08  \n",
       "2   13791869.0  1.380641e+09  \n",
       "3   24991740.0  1.459377e+08  \n",
       "4    2471747.0  5.934275e+07  "
      ]
     },
     "execution_count": 16,
     "metadata": {},
     "output_type": "execute_result"
    }
   ],
   "source": [
    "#c) Temporarily drop the Country column and convert the other columns to numeric values \n",
    "#(note: use the errors='coerce' option to coerce missing values to be converted to np.nan).\n",
    "\n",
    "df2 = df1.drop(['Country'], axis = 1)\n",
    "\n",
    "df2 = df2.apply(pd.to_numeric, errors = 'coerce')\n",
    "\n",
    "df2.head()"
   ]
  },
  {
   "cell_type": "code",
   "execution_count": 17,
   "metadata": {},
   "outputs": [
    {
     "data": {
      "text/html": [
       "<div>\n",
       "<style scoped>\n",
       "    .dataframe tbody tr th:only-of-type {\n",
       "        vertical-align: middle;\n",
       "    }\n",
       "\n",
       "    .dataframe tbody tr th {\n",
       "        vertical-align: top;\n",
       "    }\n",
       "\n",
       "    .dataframe thead th {\n",
       "        text-align: right;\n",
       "    }\n",
       "</style>\n",
       "<table border=\"1\" class=\"dataframe\">\n",
       "  <thead>\n",
       "    <tr style=\"text-align: right;\">\n",
       "      <th></th>\n",
       "      <th>Total Cases</th>\n",
       "      <th>Total Deaths</th>\n",
       "      <th>Total Recovered</th>\n",
       "      <th>Active Cases</th>\n",
       "      <th>Critical Cases</th>\n",
       "      <th>Total Tests</th>\n",
       "      <th>Population</th>\n",
       "      <th>Country</th>\n",
       "    </tr>\n",
       "  </thead>\n",
       "  <tbody>\n",
       "    <tr>\n",
       "      <th>0</th>\n",
       "      <td>3893949.0</td>\n",
       "      <td>143263.0</td>\n",
       "      <td>1802110.0</td>\n",
       "      <td>1948576.0</td>\n",
       "      <td>16616.0</td>\n",
       "      <td>48324182.0</td>\n",
       "      <td>3.310976e+08</td>\n",
       "      <td>USA</td>\n",
       "    </tr>\n",
       "    <tr>\n",
       "      <th>1</th>\n",
       "      <td>2098389.0</td>\n",
       "      <td>79488.0</td>\n",
       "      <td>1371229.0</td>\n",
       "      <td>647672.0</td>\n",
       "      <td>8318.0</td>\n",
       "      <td>4911063.0</td>\n",
       "      <td>2.126324e+08</td>\n",
       "      <td>Brazil</td>\n",
       "    </tr>\n",
       "    <tr>\n",
       "      <th>2</th>\n",
       "      <td>1118107.0</td>\n",
       "      <td>27503.0</td>\n",
       "      <td>700399.0</td>\n",
       "      <td>390205.0</td>\n",
       "      <td>8944.0</td>\n",
       "      <td>13791869.0</td>\n",
       "      <td>1.380641e+09</td>\n",
       "      <td>India</td>\n",
       "    </tr>\n",
       "    <tr>\n",
       "      <th>3</th>\n",
       "      <td>771546.0</td>\n",
       "      <td>12342.0</td>\n",
       "      <td>550344.0</td>\n",
       "      <td>208860.0</td>\n",
       "      <td>2300.0</td>\n",
       "      <td>24991740.0</td>\n",
       "      <td>1.459377e+08</td>\n",
       "      <td>Russia</td>\n",
       "    </tr>\n",
       "    <tr>\n",
       "      <th>4</th>\n",
       "      <td>364328.0</td>\n",
       "      <td>5033.0</td>\n",
       "      <td>191059.0</td>\n",
       "      <td>168236.0</td>\n",
       "      <td>539.0</td>\n",
       "      <td>2471747.0</td>\n",
       "      <td>5.934275e+07</td>\n",
       "      <td>South Africa</td>\n",
       "    </tr>\n",
       "  </tbody>\n",
       "</table>\n",
       "</div>"
      ],
      "text/plain": [
       "   Total Cases  Total Deaths  Total Recovered  Active Cases  Critical Cases  \\\n",
       "0    3893949.0      143263.0        1802110.0     1948576.0         16616.0   \n",
       "1    2098389.0       79488.0        1371229.0      647672.0          8318.0   \n",
       "2    1118107.0       27503.0         700399.0      390205.0          8944.0   \n",
       "3     771546.0       12342.0         550344.0      208860.0          2300.0   \n",
       "4     364328.0        5033.0         191059.0      168236.0           539.0   \n",
       "\n",
       "   Total Tests    Population       Country  \n",
       "0   48324182.0  3.310976e+08           USA  \n",
       "1    4911063.0  2.126324e+08        Brazil  \n",
       "2   13791869.0  1.380641e+09         India  \n",
       "3   24991740.0  1.459377e+08        Russia  \n",
       "4    2471747.0  5.934275e+07  South Africa  "
      ]
     },
     "execution_count": 17,
     "metadata": {},
     "output_type": "execute_result"
    }
   ],
   "source": [
    "#d) Re-append the Country column to the data frame.\n",
    "df2['Country'] = countryCol\n",
    "df2.head()"
   ]
  },
  {
   "cell_type": "code",
   "execution_count": 18,
   "metadata": {},
   "outputs": [
    {
     "data": {
      "text/html": [
       "<div>\n",
       "<style scoped>\n",
       "    .dataframe tbody tr th:only-of-type {\n",
       "        vertical-align: middle;\n",
       "    }\n",
       "\n",
       "    .dataframe tbody tr th {\n",
       "        vertical-align: top;\n",
       "    }\n",
       "\n",
       "    .dataframe thead th {\n",
       "        text-align: right;\n",
       "    }\n",
       "</style>\n",
       "<table border=\"1\" class=\"dataframe\">\n",
       "  <thead>\n",
       "    <tr style=\"text-align: right;\">\n",
       "      <th></th>\n",
       "      <th>Total Cases</th>\n",
       "      <th>Total Deaths</th>\n",
       "      <th>Total Recovered</th>\n",
       "      <th>Active Cases</th>\n",
       "      <th>Critical Cases</th>\n",
       "      <th>Total Tests</th>\n",
       "      <th>Population</th>\n",
       "      <th>Country</th>\n",
       "    </tr>\n",
       "  </thead>\n",
       "  <tbody>\n",
       "    <tr>\n",
       "      <th>0</th>\n",
       "      <td>3893949.0</td>\n",
       "      <td>143263.0</td>\n",
       "      <td>1802110.0</td>\n",
       "      <td>1948576.0</td>\n",
       "      <td>16616.0</td>\n",
       "      <td>48324182.0</td>\n",
       "      <td>3.310976e+08</td>\n",
       "      <td>USA</td>\n",
       "    </tr>\n",
       "    <tr>\n",
       "      <th>1</th>\n",
       "      <td>2098389.0</td>\n",
       "      <td>79488.0</td>\n",
       "      <td>1371229.0</td>\n",
       "      <td>647672.0</td>\n",
       "      <td>8318.0</td>\n",
       "      <td>4911063.0</td>\n",
       "      <td>2.126324e+08</td>\n",
       "      <td>Brazil</td>\n",
       "    </tr>\n",
       "    <tr>\n",
       "      <th>2</th>\n",
       "      <td>1118107.0</td>\n",
       "      <td>27503.0</td>\n",
       "      <td>700399.0</td>\n",
       "      <td>390205.0</td>\n",
       "      <td>8944.0</td>\n",
       "      <td>13791869.0</td>\n",
       "      <td>1.380641e+09</td>\n",
       "      <td>India</td>\n",
       "    </tr>\n",
       "    <tr>\n",
       "      <th>3</th>\n",
       "      <td>771546.0</td>\n",
       "      <td>12342.0</td>\n",
       "      <td>550344.0</td>\n",
       "      <td>208860.0</td>\n",
       "      <td>2300.0</td>\n",
       "      <td>24991740.0</td>\n",
       "      <td>1.459377e+08</td>\n",
       "      <td>Russia</td>\n",
       "    </tr>\n",
       "    <tr>\n",
       "      <th>4</th>\n",
       "      <td>364328.0</td>\n",
       "      <td>5033.0</td>\n",
       "      <td>191059.0</td>\n",
       "      <td>168236.0</td>\n",
       "      <td>539.0</td>\n",
       "      <td>2471747.0</td>\n",
       "      <td>5.934275e+07</td>\n",
       "      <td>South Africa</td>\n",
       "    </tr>\n",
       "  </tbody>\n",
       "</table>\n",
       "</div>"
      ],
      "text/plain": [
       "   Total Cases  Total Deaths  Total Recovered  Active Cases  Critical Cases  \\\n",
       "0    3893949.0      143263.0        1802110.0     1948576.0         16616.0   \n",
       "1    2098389.0       79488.0        1371229.0      647672.0          8318.0   \n",
       "2    1118107.0       27503.0         700399.0      390205.0          8944.0   \n",
       "3     771546.0       12342.0         550344.0      208860.0          2300.0   \n",
       "4     364328.0        5033.0         191059.0      168236.0           539.0   \n",
       "\n",
       "   Total Tests    Population       Country  \n",
       "0   48324182.0  3.310976e+08           USA  \n",
       "1    4911063.0  2.126324e+08        Brazil  \n",
       "2   13791869.0  1.380641e+09         India  \n",
       "3   24991740.0  1.459377e+08        Russia  \n",
       "4    2471747.0  5.934275e+07  South Africa  "
      ]
     },
     "execution_count": 18,
     "metadata": {},
     "output_type": "execute_result"
    }
   ],
   "source": [
    "#e) Use the fillna() function to fill in missing values in the following two columns: \n",
    "#Total Deaths and Critical Cases. Fill in the missing values using 0 (i.e., Zero)\n",
    "df2['Total Deaths'].fillna(0,inplace=True)\n",
    "df2['Critical Cases'].fillna(0,inplace=True)\n",
    "df2.head()"
   ]
  },
  {
   "cell_type": "code",
   "execution_count": 19,
   "metadata": {},
   "outputs": [
    {
     "data": {
      "text/plain": [
       "Total Cases        0\n",
       "Total Deaths       0\n",
       "Total Recovered    0\n",
       "Active Cases       0\n",
       "Critical Cases     0\n",
       "Total Tests        0\n",
       "Population         0\n",
       "Country            0\n",
       "dtype: int64"
      ]
     },
     "execution_count": 19,
     "metadata": {},
     "output_type": "execute_result"
    }
   ],
   "source": [
    "#f) Thereafter, check whether there are any columns with missing values and use dropna() \n",
    "#function to drop rows with missing values.\n",
    "df2.isnull().sum()   #check first\n",
    "df2 = df2.dropna()   #drop na values\n",
    "df2.isnull().sum()   #check again"
   ]
  },
  {
   "cell_type": "code",
   "execution_count": 20,
   "metadata": {},
   "outputs": [
    {
     "data": {
      "text/html": [
       "<div>\n",
       "<style scoped>\n",
       "    .dataframe tbody tr th:only-of-type {\n",
       "        vertical-align: middle;\n",
       "    }\n",
       "\n",
       "    .dataframe tbody tr th {\n",
       "        vertical-align: top;\n",
       "    }\n",
       "\n",
       "    .dataframe thead th {\n",
       "        text-align: right;\n",
       "    }\n",
       "</style>\n",
       "<table border=\"1\" class=\"dataframe\">\n",
       "  <thead>\n",
       "    <tr style=\"text-align: right;\">\n",
       "      <th></th>\n",
       "      <th>Total Cases</th>\n",
       "      <th>Total Deaths</th>\n",
       "      <th>Total Recovered</th>\n",
       "      <th>Active Cases</th>\n",
       "      <th>Critical Cases</th>\n",
       "      <th>Total Tests</th>\n",
       "      <th>Population</th>\n",
       "      <th>Country</th>\n",
       "      <th>Pop_ml</th>\n",
       "    </tr>\n",
       "  </thead>\n",
       "  <tbody>\n",
       "    <tr>\n",
       "      <th>0</th>\n",
       "      <td>3893949.0</td>\n",
       "      <td>143263.0</td>\n",
       "      <td>1802110.0</td>\n",
       "      <td>1948576.0</td>\n",
       "      <td>16616.0</td>\n",
       "      <td>48324182.0</td>\n",
       "      <td>3.310976e+08</td>\n",
       "      <td>USA</td>\n",
       "      <td>331.097557</td>\n",
       "    </tr>\n",
       "    <tr>\n",
       "      <th>1</th>\n",
       "      <td>2098389.0</td>\n",
       "      <td>79488.0</td>\n",
       "      <td>1371229.0</td>\n",
       "      <td>647672.0</td>\n",
       "      <td>8318.0</td>\n",
       "      <td>4911063.0</td>\n",
       "      <td>2.126324e+08</td>\n",
       "      <td>Brazil</td>\n",
       "      <td>212.632374</td>\n",
       "    </tr>\n",
       "    <tr>\n",
       "      <th>2</th>\n",
       "      <td>1118107.0</td>\n",
       "      <td>27503.0</td>\n",
       "      <td>700399.0</td>\n",
       "      <td>390205.0</td>\n",
       "      <td>8944.0</td>\n",
       "      <td>13791869.0</td>\n",
       "      <td>1.380641e+09</td>\n",
       "      <td>India</td>\n",
       "      <td>1380.641231</td>\n",
       "    </tr>\n",
       "    <tr>\n",
       "      <th>3</th>\n",
       "      <td>771546.0</td>\n",
       "      <td>12342.0</td>\n",
       "      <td>550344.0</td>\n",
       "      <td>208860.0</td>\n",
       "      <td>2300.0</td>\n",
       "      <td>24991740.0</td>\n",
       "      <td>1.459377e+08</td>\n",
       "      <td>Russia</td>\n",
       "      <td>145.937686</td>\n",
       "    </tr>\n",
       "    <tr>\n",
       "      <th>4</th>\n",
       "      <td>364328.0</td>\n",
       "      <td>5033.0</td>\n",
       "      <td>191059.0</td>\n",
       "      <td>168236.0</td>\n",
       "      <td>539.0</td>\n",
       "      <td>2471747.0</td>\n",
       "      <td>5.934275e+07</td>\n",
       "      <td>South Africa</td>\n",
       "      <td>59.342751</td>\n",
       "    </tr>\n",
       "  </tbody>\n",
       "</table>\n",
       "</div>"
      ],
      "text/plain": [
       "   Total Cases  Total Deaths  Total Recovered  Active Cases  Critical Cases  \\\n",
       "0    3893949.0      143263.0        1802110.0     1948576.0         16616.0   \n",
       "1    2098389.0       79488.0        1371229.0      647672.0          8318.0   \n",
       "2    1118107.0       27503.0         700399.0      390205.0          8944.0   \n",
       "3     771546.0       12342.0         550344.0      208860.0          2300.0   \n",
       "4     364328.0        5033.0         191059.0      168236.0           539.0   \n",
       "\n",
       "   Total Tests    Population       Country       Pop_ml  \n",
       "0   48324182.0  3.310976e+08           USA   331.097557  \n",
       "1    4911063.0  2.126324e+08        Brazil   212.632374  \n",
       "2   13791869.0  1.380641e+09         India  1380.641231  \n",
       "3   24991740.0  1.459377e+08        Russia   145.937686  \n",
       "4    2471747.0  5.934275e+07  South Africa    59.342751  "
      ]
     },
     "execution_count": 20,
     "metadata": {},
     "output_type": "execute_result"
    }
   ],
   "source": [
    "#g) Add/Append the following computed column to the data frame: Pop_ml = Population/1000000 \n",
    "#(i.e., convert country population numbers to millions by dividing by 1 million).\n",
    "\n",
    "df2['Pop_ml'] = df2['Population'] / 1000000\n",
    "df2.head()"
   ]
  },
  {
   "cell_type": "code",
   "execution_count": 21,
   "metadata": {},
   "outputs": [
    {
     "data": {
      "text/html": [
       "<div>\n",
       "<style scoped>\n",
       "    .dataframe tbody tr th:only-of-type {\n",
       "        vertical-align: middle;\n",
       "    }\n",
       "\n",
       "    .dataframe tbody tr th {\n",
       "        vertical-align: top;\n",
       "    }\n",
       "\n",
       "    .dataframe thead th {\n",
       "        text-align: right;\n",
       "    }\n",
       "</style>\n",
       "<table border=\"1\" class=\"dataframe\">\n",
       "  <thead>\n",
       "    <tr style=\"text-align: right;\">\n",
       "      <th></th>\n",
       "      <th>Total Cases</th>\n",
       "      <th>Total Deaths</th>\n",
       "      <th>Total Recovered</th>\n",
       "      <th>Active Cases</th>\n",
       "      <th>Critical Cases</th>\n",
       "      <th>Total Tests</th>\n",
       "      <th>Population</th>\n",
       "      <th>Country</th>\n",
       "      <th>Pop_ml</th>\n",
       "      <th>Mortality_rate</th>\n",
       "      <th>Cases_per_ml</th>\n",
       "      <th>Deaths_per_ml</th>\n",
       "      <th>Recovered_per_ml</th>\n",
       "      <th>Active_per_ml</th>\n",
       "      <th>Critical_per_ml</th>\n",
       "      <th>Tests_per_ml</th>\n",
       "    </tr>\n",
       "  </thead>\n",
       "  <tbody>\n",
       "    <tr>\n",
       "      <th>0</th>\n",
       "      <td>3893949.0</td>\n",
       "      <td>143263.0</td>\n",
       "      <td>1802110.0</td>\n",
       "      <td>1948576.0</td>\n",
       "      <td>16616.0</td>\n",
       "      <td>48324182.0</td>\n",
       "      <td>3.310976e+08</td>\n",
       "      <td>USA</td>\n",
       "      <td>331.097557</td>\n",
       "      <td>0.036791</td>\n",
       "      <td>11760.730086</td>\n",
       "      <td>432.691202</td>\n",
       "      <td>5442.836898</td>\n",
       "      <td>5885.201986</td>\n",
       "      <td>50.184605</td>\n",
       "      <td>145951.490666</td>\n",
       "    </tr>\n",
       "    <tr>\n",
       "      <th>1</th>\n",
       "      <td>2098389.0</td>\n",
       "      <td>79488.0</td>\n",
       "      <td>1371229.0</td>\n",
       "      <td>647672.0</td>\n",
       "      <td>8318.0</td>\n",
       "      <td>4911063.0</td>\n",
       "      <td>2.126324e+08</td>\n",
       "      <td>Brazil</td>\n",
       "      <td>212.632374</td>\n",
       "      <td>0.037880</td>\n",
       "      <td>9868.624239</td>\n",
       "      <td>373.828305</td>\n",
       "      <td>6448.825145</td>\n",
       "      <td>3045.970789</td>\n",
       "      <td>39.119161</td>\n",
       "      <td>23096.497056</td>\n",
       "    </tr>\n",
       "    <tr>\n",
       "      <th>2</th>\n",
       "      <td>1118107.0</td>\n",
       "      <td>27503.0</td>\n",
       "      <td>700399.0</td>\n",
       "      <td>390205.0</td>\n",
       "      <td>8944.0</td>\n",
       "      <td>13791869.0</td>\n",
       "      <td>1.380641e+09</td>\n",
       "      <td>India</td>\n",
       "      <td>1380.641231</td>\n",
       "      <td>0.024598</td>\n",
       "      <td>809.846161</td>\n",
       "      <td>19.920454</td>\n",
       "      <td>507.299785</td>\n",
       "      <td>282.625921</td>\n",
       "      <td>6.478149</td>\n",
       "      <td>9989.466264</td>\n",
       "    </tr>\n",
       "    <tr>\n",
       "      <th>3</th>\n",
       "      <td>771546.0</td>\n",
       "      <td>12342.0</td>\n",
       "      <td>550344.0</td>\n",
       "      <td>208860.0</td>\n",
       "      <td>2300.0</td>\n",
       "      <td>24991740.0</td>\n",
       "      <td>1.459377e+08</td>\n",
       "      <td>Russia</td>\n",
       "      <td>145.937686</td>\n",
       "      <td>0.015996</td>\n",
       "      <td>5286.818101</td>\n",
       "      <td>84.570342</td>\n",
       "      <td>3771.088984</td>\n",
       "      <td>1431.158776</td>\n",
       "      <td>15.760151</td>\n",
       "      <td>171249.392018</td>\n",
       "    </tr>\n",
       "    <tr>\n",
       "      <th>4</th>\n",
       "      <td>364328.0</td>\n",
       "      <td>5033.0</td>\n",
       "      <td>191059.0</td>\n",
       "      <td>168236.0</td>\n",
       "      <td>539.0</td>\n",
       "      <td>2471747.0</td>\n",
       "      <td>5.934275e+07</td>\n",
       "      <td>South Africa</td>\n",
       "      <td>59.342751</td>\n",
       "      <td>0.013814</td>\n",
       "      <td>6139.385078</td>\n",
       "      <td>84.812381</td>\n",
       "      <td>3219.584478</td>\n",
       "      <td>2834.988220</td>\n",
       "      <td>9.082828</td>\n",
       "      <td>41652.046094</td>\n",
       "    </tr>\n",
       "  </tbody>\n",
       "</table>\n",
       "</div>"
      ],
      "text/plain": [
       "   Total Cases  Total Deaths  Total Recovered  Active Cases  Critical Cases  \\\n",
       "0    3893949.0      143263.0        1802110.0     1948576.0         16616.0   \n",
       "1    2098389.0       79488.0        1371229.0      647672.0          8318.0   \n",
       "2    1118107.0       27503.0         700399.0      390205.0          8944.0   \n",
       "3     771546.0       12342.0         550344.0      208860.0          2300.0   \n",
       "4     364328.0        5033.0         191059.0      168236.0           539.0   \n",
       "\n",
       "   Total Tests    Population       Country       Pop_ml  Mortality_rate  \\\n",
       "0   48324182.0  3.310976e+08           USA   331.097557        0.036791   \n",
       "1    4911063.0  2.126324e+08        Brazil   212.632374        0.037880   \n",
       "2   13791869.0  1.380641e+09         India  1380.641231        0.024598   \n",
       "3   24991740.0  1.459377e+08        Russia   145.937686        0.015996   \n",
       "4    2471747.0  5.934275e+07  South Africa    59.342751        0.013814   \n",
       "\n",
       "   Cases_per_ml  Deaths_per_ml  Recovered_per_ml  Active_per_ml  \\\n",
       "0  11760.730086     432.691202       5442.836898    5885.201986   \n",
       "1   9868.624239     373.828305       6448.825145    3045.970789   \n",
       "2    809.846161      19.920454        507.299785     282.625921   \n",
       "3   5286.818101      84.570342       3771.088984    1431.158776   \n",
       "4   6139.385078      84.812381       3219.584478    2834.988220   \n",
       "\n",
       "   Critical_per_ml   Tests_per_ml  \n",
       "0        50.184605  145951.490666  \n",
       "1        39.119161   23096.497056  \n",
       "2         6.478149    9989.466264  \n",
       "3        15.760151  171249.392018  \n",
       "4         9.082828   41652.046094  "
      ]
     },
     "execution_count": 21,
     "metadata": {},
     "output_type": "execute_result"
    }
   ],
   "source": [
    "#h) Thereafter, add/append the following computed columns to the data frame:\n",
    "df2['Mortality_rate'] = df2['Total Deaths'] / df2['Total Cases']\n",
    "df2['Cases_per_ml'] = df2['Total Cases'] / df2['Pop_ml']\n",
    "df2['Deaths_per_ml'] = df2['Total Deaths'] / df2['Pop_ml']\n",
    "df2['Recovered_per_ml'] = df2['Total Recovered'] / df2['Pop_ml']\n",
    "df2['Active_per_ml'] = df2['Active Cases'] / df2['Pop_ml']\n",
    "df2['Critical_per_ml'] = df2['Critical Cases'] / df2['Pop_ml']\n",
    "df2['Tests_per_ml'] = df2['Total Tests'] / df2['Pop_ml']\n",
    "df2.head()"
   ]
  },
  {
   "cell_type": "code",
   "execution_count": 22,
   "metadata": {},
   "outputs": [
    {
     "data": {
      "text/plain": [
       "(194, 8)"
      ]
     },
     "execution_count": 22,
     "metadata": {},
     "output_type": "execute_result"
    }
   ],
   "source": [
    "#i) Select the following columns for subsequent analysis:\n",
    "#Country, Mortality_rate, Cases_per_ml, Deaths_per_ml, Recovered_per_ml, Active_per_ml, Critical_per_ml, Tests_per_ml.\n",
    "#Hint:If you have implemented all the steps correctly, your data frame after this step should be of the shape (94, 8).\n",
    "\n",
    "df_final = df2[['Country', 'Mortality_rate', 'Cases_per_ml', 'Deaths_per_ml', \n",
    "         'Recovered_per_ml', 'Active_per_ml', 'Critical_per_ml', 'Tests_per_ml']]\n",
    "df_final.head()\n",
    "df_final.shape"
   ]
  },
  {
   "cell_type": "code",
   "execution_count": 23,
   "metadata": {},
   "outputs": [
    {
     "data": {
      "text/html": [
       "<div>\n",
       "<style scoped>\n",
       "    .dataframe tbody tr th:only-of-type {\n",
       "        vertical-align: middle;\n",
       "    }\n",
       "\n",
       "    .dataframe tbody tr th {\n",
       "        vertical-align: top;\n",
       "    }\n",
       "\n",
       "    .dataframe thead th {\n",
       "        text-align: right;\n",
       "    }\n",
       "</style>\n",
       "<table border=\"1\" class=\"dataframe\">\n",
       "  <thead>\n",
       "    <tr style=\"text-align: right;\">\n",
       "      <th></th>\n",
       "      <th>Mortality_rate</th>\n",
       "      <th>Cases_per_ml</th>\n",
       "      <th>Deaths_per_ml</th>\n",
       "      <th>Recovered_per_ml</th>\n",
       "      <th>Active_per_ml</th>\n",
       "      <th>Critical_per_ml</th>\n",
       "      <th>Tests_per_ml</th>\n",
       "    </tr>\n",
       "  </thead>\n",
       "  <tbody>\n",
       "    <tr>\n",
       "      <th>0</th>\n",
       "      <td>0.036791</td>\n",
       "      <td>11760.730086</td>\n",
       "      <td>432.691202</td>\n",
       "      <td>5442.836898</td>\n",
       "      <td>5885.201986</td>\n",
       "      <td>50.184605</td>\n",
       "      <td>145951.490666</td>\n",
       "    </tr>\n",
       "    <tr>\n",
       "      <th>1</th>\n",
       "      <td>0.037880</td>\n",
       "      <td>9868.624239</td>\n",
       "      <td>373.828305</td>\n",
       "      <td>6448.825145</td>\n",
       "      <td>3045.970789</td>\n",
       "      <td>39.119161</td>\n",
       "      <td>23096.497056</td>\n",
       "    </tr>\n",
       "    <tr>\n",
       "      <th>2</th>\n",
       "      <td>0.024598</td>\n",
       "      <td>809.846161</td>\n",
       "      <td>19.920454</td>\n",
       "      <td>507.299785</td>\n",
       "      <td>282.625921</td>\n",
       "      <td>6.478149</td>\n",
       "      <td>9989.466264</td>\n",
       "    </tr>\n",
       "    <tr>\n",
       "      <th>3</th>\n",
       "      <td>0.015996</td>\n",
       "      <td>5286.818101</td>\n",
       "      <td>84.570342</td>\n",
       "      <td>3771.088984</td>\n",
       "      <td>1431.158776</td>\n",
       "      <td>15.760151</td>\n",
       "      <td>171249.392018</td>\n",
       "    </tr>\n",
       "    <tr>\n",
       "      <th>4</th>\n",
       "      <td>0.013814</td>\n",
       "      <td>6139.385078</td>\n",
       "      <td>84.812381</td>\n",
       "      <td>3219.584478</td>\n",
       "      <td>2834.988220</td>\n",
       "      <td>9.082828</td>\n",
       "      <td>41652.046094</td>\n",
       "    </tr>\n",
       "  </tbody>\n",
       "</table>\n",
       "</div>"
      ],
      "text/plain": [
       "   Mortality_rate  Cases_per_ml  Deaths_per_ml  Recovered_per_ml  \\\n",
       "0        0.036791  11760.730086     432.691202       5442.836898   \n",
       "1        0.037880   9868.624239     373.828305       6448.825145   \n",
       "2        0.024598    809.846161      19.920454        507.299785   \n",
       "3        0.015996   5286.818101      84.570342       3771.088984   \n",
       "4        0.013814   6139.385078      84.812381       3219.584478   \n",
       "\n",
       "   Active_per_ml  Critical_per_ml   Tests_per_ml  \n",
       "0    5885.201986        50.184605  145951.490666  \n",
       "1    3045.970789        39.119161   23096.497056  \n",
       "2     282.625921         6.478149    9989.466264  \n",
       "3    1431.158776        15.760151  171249.392018  \n",
       "4    2834.988220         9.082828   41652.046094  "
      ]
     },
     "execution_count": 23,
     "metadata": {},
     "output_type": "execute_result"
    }
   ],
   "source": [
    "#j) For now, drop the Country column (you’ll need later); so keep your data frame from step i) intact!\n",
    "df4 = df_final.drop(['Country'], axis = 1)\n",
    "df4.head()"
   ]
  },
  {
   "cell_type": "code",
   "execution_count": 24,
   "metadata": {},
   "outputs": [
    {
     "data": {
      "text/html": [
       "<div>\n",
       "<style scoped>\n",
       "    .dataframe tbody tr th:only-of-type {\n",
       "        vertical-align: middle;\n",
       "    }\n",
       "\n",
       "    .dataframe tbody tr th {\n",
       "        vertical-align: top;\n",
       "    }\n",
       "\n",
       "    .dataframe thead th {\n",
       "        text-align: right;\n",
       "    }\n",
       "</style>\n",
       "<table border=\"1\" class=\"dataframe\">\n",
       "  <thead>\n",
       "    <tr style=\"text-align: right;\">\n",
       "      <th></th>\n",
       "      <th>Mortality_rate</th>\n",
       "      <th>Cases_per_ml</th>\n",
       "      <th>Deaths_per_ml</th>\n",
       "      <th>Recovered_per_ml</th>\n",
       "      <th>Active_per_ml</th>\n",
       "      <th>Critical_per_ml</th>\n",
       "      <th>Tests_per_ml</th>\n",
       "    </tr>\n",
       "  </thead>\n",
       "  <tbody>\n",
       "    <tr>\n",
       "      <th>0</th>\n",
       "      <td>0.140172</td>\n",
       "      <td>1.961777</td>\n",
       "      <td>2.138489</td>\n",
       "      <td>0.880126</td>\n",
       "      <td>4.299014</td>\n",
       "      <td>2.794194</td>\n",
       "      <td>0.667439</td>\n",
       "    </tr>\n",
       "    <tr>\n",
       "      <th>1</th>\n",
       "      <td>0.169068</td>\n",
       "      <td>1.551085</td>\n",
       "      <td>1.778281</td>\n",
       "      <td>1.133636</td>\n",
       "      <td>1.952318</td>\n",
       "      <td>2.076678</td>\n",
       "      <td>-0.359577</td>\n",
       "    </tr>\n",
       "    <tr>\n",
       "      <th>2</th>\n",
       "      <td>-0.183282</td>\n",
       "      <td>-0.415172</td>\n",
       "      <td>-0.387439</td>\n",
       "      <td>-0.363635</td>\n",
       "      <td>-0.331656</td>\n",
       "      <td>-0.039862</td>\n",
       "      <td>-0.469146</td>\n",
       "    </tr>\n",
       "    <tr>\n",
       "      <th>3</th>\n",
       "      <td>-0.411452</td>\n",
       "      <td>0.556579</td>\n",
       "      <td>0.008182</td>\n",
       "      <td>0.458843</td>\n",
       "      <td>0.617635</td>\n",
       "      <td>0.562011</td>\n",
       "      <td>0.878918</td>\n",
       "    </tr>\n",
       "    <tr>\n",
       "      <th>4</th>\n",
       "      <td>-0.469333</td>\n",
       "      <td>0.741634</td>\n",
       "      <td>0.009664</td>\n",
       "      <td>0.319864</td>\n",
       "      <td>1.777936</td>\n",
       "      <td>0.129033</td>\n",
       "      <td>-0.204460</td>\n",
       "    </tr>\n",
       "  </tbody>\n",
       "</table>\n",
       "</div>"
      ],
      "text/plain": [
       "   Mortality_rate  Cases_per_ml  Deaths_per_ml  Recovered_per_ml  \\\n",
       "0        0.140172      1.961777       2.138489          0.880126   \n",
       "1        0.169068      1.551085       1.778281          1.133636   \n",
       "2       -0.183282     -0.415172      -0.387439         -0.363635   \n",
       "3       -0.411452      0.556579       0.008182          0.458843   \n",
       "4       -0.469333      0.741634       0.009664          0.319864   \n",
       "\n",
       "   Active_per_ml  Critical_per_ml  Tests_per_ml  \n",
       "0       4.299014         2.794194      0.667439  \n",
       "1       1.952318         2.076678     -0.359577  \n",
       "2      -0.331656        -0.039862     -0.469146  \n",
       "3       0.617635         0.562011      0.878918  \n",
       "4       1.777936         0.129033     -0.204460  "
      ]
     },
     "execution_count": 24,
     "metadata": {},
     "output_type": "execute_result"
    }
   ],
   "source": [
    "#k) After dropping the country column, scale the data using StandardSCaler.\n",
    "scaler = StandardScaler()\n",
    "scale_df = df4.copy()\n",
    "scale_df[['Mortality_rate', 'Cases_per_ml', 'Deaths_per_ml', 'Recovered_per_ml', 'Active_per_ml', 'Critical_per_ml', 'Tests_per_ml']] = scaler.fit_transform(scale_df[['Mortality_rate', 'Cases_per_ml', 'Deaths_per_ml', 'Recovered_per_ml', 'Active_per_ml', 'Critical_per_ml', 'Tests_per_ml']])\n",
    "scale_df.head()"
   ]
  },
  {
   "cell_type": "markdown",
   "metadata": {},
   "source": [
    "3. With scaled data, use scipy.cluster.hierarchy to determine the optimal number of clusters."
   ]
  },
  {
   "cell_type": "code",
   "execution_count": 25,
   "metadata": {},
   "outputs": [],
   "source": [
    "def show_dendrogram(data):                      #function definition for dendogram\n",
    "    plt.figure(figsize=(10, 7))\n",
    "    plt.title(\"COVID 19 cases details - Dendrogram\")\n",
    "    dend = shc.dendrogram(shc.linkage(data, method='ward'))"
   ]
  },
  {
   "cell_type": "code",
   "execution_count": 26,
   "metadata": {},
   "outputs": [
    {
     "data": {
      "image/png": "[encoded data removed]",
      "text/plain": [
       "<Figure size 720x504 with 1 Axes>"
      ]
     },
     "metadata": {
      "needs_background": "light"
     },
     "output_type": "display_data"
    }
   ],
   "source": [
    "show_dendrogram(scale_df)                       #generate the dendrogram"
   ]
  },
  {
   "cell_type": "markdown",
   "metadata": {},
   "source": [
    "We get 3 clusters - based on the 3 colors"
   ]
  },
  {
   "cell_type": "markdown",
   "metadata": {},
   "source": [
    "4. Repeat step 3 using the Elbow method (i.e., scree plot)"
   ]
  },
  {
   "cell_type": "code",
   "execution_count": 27,
   "metadata": {},
   "outputs": [],
   "source": [
    "#function definition - compute withinness sum of squares (wss)\n",
    "def calculate_wcss(data):\n",
    "    wcss = []\n",
    "    for n in range(2, 16):\n",
    "        kmeans = KMeans(n_clusters=n, random_state=0)\n",
    "        kmeans.fit(X=data)\n",
    "        wcss.append(kmeans.inertia_)\n",
    "    \n",
    "    return wcss"
   ]
  },
  {
   "cell_type": "code",
   "execution_count": 28,
   "metadata": {},
   "outputs": [],
   "source": [
    "wcss1 = calculate_wcss(scale_df)         #compute wss"
   ]
  },
  {
   "cell_type": "code",
   "execution_count": 44,
   "metadata": {},
   "outputs": [
    {
     "data": {
      "image/png": "[encoded data removed]",
      "text/plain": [
       "<Figure size 432x288 with 1 Axes>"
      ]
     },
     "metadata": {
      "needs_background": "light"
     },
     "output_type": "display_data"
    }
   ],
   "source": [
    "#scree plot (elbow method)\n",
    "plt.plot(range(2,16), wcss1, '-bo')\n",
    "plt.xlabel('k')\n",
    "plt.ylabel('Sum_of_squared_distances')\n",
    "plt.title('Elbow Method to determine optimal number of clusters (k)')\n",
    "plt.show()"
   ]
  },
  {
   "cell_type": "markdown",
   "metadata": {},
   "source": [
    "5. Using the optimal number of clusters determined in 3) above (more conclusive than the Elbow method), implement cluster analysis using k-means and hierarchical (i.e., AgglomarativeClustering) techniques."
   ]
  },
  {
   "cell_type": "markdown",
   "metadata": {},
   "source": [
    "k-means approach"
   ]
  },
  {
   "cell_type": "code",
   "execution_count": 30,
   "metadata": {},
   "outputs": [
    {
     "name": "stdout",
     "output_type": "stream",
     "text": [
      "[1 1 0 0 0 1 2 1 2 2 0 0 1 2 0 0 0 0 2 0 2 1 0 0 0 0 2 2 0 0 1 0 2 1 0 0 0\n",
      " 0 1 2 0 0 0 0 0 0 0 1 0 1 0 0 0 0 0 2 0 1 0 0 0 0 0 0 0 0 0 0 0 0 0 0 0 0\n",
      " 0 0 0 0 0 0 0 0 0 0 0 1 0 0 0 1 0 0 0 2 0 0 0 0 0 0 0 0 0 0 0 0 0 0 0 0 0\n",
      " 0 0 0 0 0 0 0 0 0 2 0 0 0 0 0 0 0 0 0 0 0 0 0 0 2 0 0 0 0 1 0 0 2 0 0 0 0\n",
      " 0 0 2 0 0 0 0 0 0 0 0 0 0 0 0 0 0 0 0 0 0 0 2 0 0 0 0 0 0 0 0 0 0 0 0 0 0\n",
      " 0 0 0 0 0 2 0 2 0]\n"
     ]
    }
   ],
   "source": [
    "#run kmeans with number of clusters obtained earlier\n",
    "kmeans = KMeans(n_clusters=3, random_state=0)\n",
    "clusters = kmeans.fit_predict(scale_df)\n",
    "\n",
    "print(clusters)"
   ]
  },
  {
   "cell_type": "code",
   "execution_count": 31,
   "metadata": {},
   "outputs": [
    {
     "name": "stdout",
     "output_type": "stream",
     "text": [
      "[[-0.25133228 -0.27657993 -0.32529548 -0.23733462 -0.22655202 -0.20614269\n",
      "  -0.05624437]\n",
      " [-0.26796001  2.65025998  1.19688137  2.44965456  1.90005033  2.28756462\n",
      "   0.569292  ]\n",
      " [ 2.32802975  0.23678361  1.79442398  0.06466948  0.40776678 -0.07003359\n",
      "   0.02419572]]\n"
     ]
    }
   ],
   "source": [
    "#generate cluster centers\n",
    "centers = kmeans.cluster_centers_\n",
    "print(centers)"
   ]
  },
  {
   "cell_type": "code",
   "execution_count": 32,
   "metadata": {},
   "outputs": [
    {
     "name": "stdout",
     "output_type": "stream",
     "text": [
      "   Mortality_rate  Cases_per_ml  Deaths_per_ml  Recovered_per_ml  \\\n",
      "0       -0.251332     -0.276580      -0.325295         -0.237335   \n",
      "1       -0.267960      2.650260       1.196881          2.449655   \n",
      "2        2.328030      0.236784       1.794424          0.064669   \n",
      "\n",
      "   Active_per_ml  Critical_per_ml  Tests_per_ml  \n",
      "0      -0.226552        -0.206143     -0.056244  \n",
      "1       1.900050         2.287565      0.569292  \n",
      "2       0.407767        -0.070034      0.024196  \n"
     ]
    }
   ],
   "source": [
    "#save the cluster centers to a dataframe\n",
    "\n",
    "df_cols = ['Mortality_rate', 'Cases_per_ml', 'Deaths_per_ml',\n",
    "           'Recovered_per_ml', 'Active_per_ml', 'Critical_per_ml', 'Tests_per_ml']\n",
    "\n",
    "clusters_df = pd.DataFrame(centers)\n",
    "clusters_df.columns = df_cols\n",
    "print(clusters_df)"
   ]
  },
  {
   "cell_type": "markdown",
   "metadata": {},
   "source": [
    "Hierarchical technique (agg)"
   ]
  },
  {
   "cell_type": "code",
   "execution_count": 33,
   "metadata": {},
   "outputs": [
    {
     "name": "stdout",
     "output_type": "stream",
     "text": [
      "[1 1 0 0 0 1 2 1 2 2 0 0 0 2 0 0 0 0 2 0 0 1 0 0 0 0 2 0 0 0 1 0 2 1 0 0 0\n",
      " 0 1 2 0 0 0 0 0 0 0 1 0 1 2 0 0 0 0 2 0 0 0 0 0 0 0 0 0 0 0 0 0 0 0 0 0 0\n",
      " 0 0 0 0 0 0 0 0 0 0 0 1 0 0 0 0 0 0 0 2 0 0 0 0 0 0 0 0 0 0 0 0 0 0 0 0 0\n",
      " 0 0 0 0 0 0 0 0 0 2 0 0 0 0 0 0 0 0 0 0 0 0 0 0 2 0 0 0 0 2 0 0 2 0 0 0 0\n",
      " 0 0 2 0 0 0 0 0 0 0 0 0 0 0 0 0 0 0 0 0 0 0 2 0 0 0 0 0 0 0 0 0 0 0 0 0 0\n",
      " 0 0 0 0 0 2 0 2 0]\n"
     ]
    }
   ],
   "source": [
    "hclust = AgglomerativeClustering(n_clusters=3, affinity='euclidean', linkage='ward') #instance of AgglomerativeClustering\n",
    "\n",
    "clusters_ac = hclust.fit_predict(scale_df)          #fit data, generate cluster labels (i.e. membership)\n",
    "\n",
    "print(clusters_ac)"
   ]
  },
  {
   "cell_type": "markdown",
   "metadata": {},
   "source": [
    "6. Compare the strenth of cluster solutions of the two approaches using the following metrics: silhouette_score, calinski_harabasz_score, davies_bouldin_score."
   ]
  },
  {
   "cell_type": "markdown",
   "metadata": {},
   "source": [
    "Silhoutte coefficient\n",
    "The higher, the better (+ve range)"
   ]
  },
  {
   "cell_type": "code",
   "execution_count": 34,
   "metadata": {},
   "outputs": [
    {
     "data": {
      "text/plain": [
       "0.5310315622336387"
      ]
     },
     "execution_count": 34,
     "metadata": {},
     "output_type": "execute_result"
    }
   ],
   "source": [
    "#kmeans\n",
    "silhouette_score(scale_df, clusters, metric='euclidean')"
   ]
  },
  {
   "cell_type": "code",
   "execution_count": 35,
   "metadata": {},
   "outputs": [
    {
     "data": {
      "text/plain": [
       "0.5346570883978448"
      ]
     },
     "execution_count": 35,
     "metadata": {},
     "output_type": "execute_result"
    }
   ],
   "source": [
    "#Hierarchical clustering\n",
    "silhouette_score(scale_df, clusters_ac, metric='euclidean')"
   ]
  },
  {
   "cell_type": "markdown",
   "metadata": {},
   "source": [
    "Calinski_harabasz_score\n",
    "one with highest score is better - no threshold or decision point, just a comparative scale"
   ]
  },
  {
   "cell_type": "code",
   "execution_count": 36,
   "metadata": {},
   "outputs": [
    {
     "data": {
      "text/plain": [
       "72.88634114982202"
      ]
     },
     "execution_count": 36,
     "metadata": {},
     "output_type": "execute_result"
    }
   ],
   "source": [
    "#kmeans\n",
    "calinski_harabasz_score(scale_df, clusters)"
   ]
  },
  {
   "cell_type": "code",
   "execution_count": 37,
   "metadata": {},
   "outputs": [
    {
     "data": {
      "text/plain": [
       "67.16859942675217"
      ]
     },
     "execution_count": 37,
     "metadata": {},
     "output_type": "execute_result"
    }
   ],
   "source": [
    "#Hierachical clustering\n",
    "calinski_harabasz_score(scale_df, clusters_ac)"
   ]
  },
  {
   "cell_type": "markdown",
   "metadata": {},
   "source": [
    "Davies_bouldin_score\n",
    "The lower the value, the better. Values closer to zero --> better partition"
   ]
  },
  {
   "cell_type": "code",
   "execution_count": 38,
   "metadata": {},
   "outputs": [
    {
     "data": {
      "text/plain": [
       "1.1693915881286654"
      ]
     },
     "execution_count": 38,
     "metadata": {},
     "output_type": "execute_result"
    }
   ],
   "source": [
    "#kmeans clustering\n",
    "davies_bouldin_score(scale_df, clusters)"
   ]
  },
  {
   "cell_type": "code",
   "execution_count": 39,
   "metadata": {},
   "outputs": [
    {
     "data": {
      "text/plain": [
       "1.0979807302454392"
      ]
     },
     "execution_count": 39,
     "metadata": {},
     "output_type": "execute_result"
    }
   ],
   "source": [
    "#Hierarchical clustering\n",
    "davies_bouldin_score(scale_df, clusters_ac)"
   ]
  },
  {
   "cell_type": "markdown",
   "metadata": {},
   "source": [
    "7. Based on the metrics in 6) above, select the better technique for further analysis.\n",
    "--> Hierarchical is better here (best out of 3 metrics results)"
   ]
  },
  {
   "cell_type": "markdown",
   "metadata": {},
   "source": [
    "8. Based on the results of the chosen technique, append cluster membership variable/feature to the data frame you obtained in step 2. i) above (i.e., the data frame containing country column).\n",
    "Save the data frame to file as a CSV file."
   ]
  },
  {
   "cell_type": "code",
   "execution_count": 40,
   "metadata": {},
   "outputs": [
    {
     "name": "stderr",
     "output_type": "stream",
     "text": [
      "C:\\Users\\joshi\\anaconda3\\lib\\site-packages\\ipykernel_launcher.py:2: SettingWithCopyWarning: \n",
      "A value is trying to be set on a copy of a slice from a DataFrame.\n",
      "Try using .loc[row_indexer,col_indexer] = value instead\n",
      "\n",
      "See the caveats in the documentation: https://pandas.pydata.org/pandas-docs/stable/user_guide/indexing.html#returning-a-view-versus-a-copy\n",
      "  \n"
     ]
    },
    {
     "data": {
      "text/html": [
       "<div>\n",
       "<style scoped>\n",
       "    .dataframe tbody tr th:only-of-type {\n",
       "        vertical-align: middle;\n",
       "    }\n",
       "\n",
       "    .dataframe tbody tr th {\n",
       "        vertical-align: top;\n",
       "    }\n",
       "\n",
       "    .dataframe thead th {\n",
       "        text-align: right;\n",
       "    }\n",
       "</style>\n",
       "<table border=\"1\" class=\"dataframe\">\n",
       "  <thead>\n",
       "    <tr style=\"text-align: right;\">\n",
       "      <th></th>\n",
       "      <th>Country</th>\n",
       "      <th>Mortality_rate</th>\n",
       "      <th>Cases_per_ml</th>\n",
       "      <th>Deaths_per_ml</th>\n",
       "      <th>Recovered_per_ml</th>\n",
       "      <th>Active_per_ml</th>\n",
       "      <th>Critical_per_ml</th>\n",
       "      <th>Tests_per_ml</th>\n",
       "      <th>Clust_mem</th>\n",
       "    </tr>\n",
       "  </thead>\n",
       "  <tbody>\n",
       "    <tr>\n",
       "      <th>205</th>\n",
       "      <td>Greenland</td>\n",
       "      <td>0.000000</td>\n",
       "      <td>228.974020</td>\n",
       "      <td>0.000000</td>\n",
       "      <td>228.974020</td>\n",
       "      <td>0.000000</td>\n",
       "      <td>0.0</td>\n",
       "      <td>91448.701013</td>\n",
       "      <td>0</td>\n",
       "    </tr>\n",
       "    <tr>\n",
       "      <th>206</th>\n",
       "      <td>Montserrat</td>\n",
       "      <td>0.083333</td>\n",
       "      <td>2403.846154</td>\n",
       "      <td>200.320513</td>\n",
       "      <td>2003.205128</td>\n",
       "      <td>200.320513</td>\n",
       "      <td>0.0</td>\n",
       "      <td>12219.551282</td>\n",
       "      <td>2</td>\n",
       "    </tr>\n",
       "    <tr>\n",
       "      <th>209</th>\n",
       "      <td>Caribbean Netherlands</td>\n",
       "      <td>0.000000</td>\n",
       "      <td>381.170192</td>\n",
       "      <td>0.000000</td>\n",
       "      <td>266.819135</td>\n",
       "      <td>114.351058</td>\n",
       "      <td>0.0</td>\n",
       "      <td>16161.616162</td>\n",
       "      <td>0</td>\n",
       "    </tr>\n",
       "    <tr>\n",
       "      <th>210</th>\n",
       "      <td>British Virgin Islands</td>\n",
       "      <td>0.125000</td>\n",
       "      <td>264.541516</td>\n",
       "      <td>33.067690</td>\n",
       "      <td>231.473827</td>\n",
       "      <td>0.000000</td>\n",
       "      <td>0.0</td>\n",
       "      <td>14516.715717</td>\n",
       "      <td>2</td>\n",
       "    </tr>\n",
       "    <tr>\n",
       "      <th>211</th>\n",
       "      <td>St. Barth</td>\n",
       "      <td>0.000000</td>\n",
       "      <td>607.348922</td>\n",
       "      <td>0.000000</td>\n",
       "      <td>607.348922</td>\n",
       "      <td>0.000000</td>\n",
       "      <td>0.0</td>\n",
       "      <td>90798.663832</td>\n",
       "      <td>0</td>\n",
       "    </tr>\n",
       "  </tbody>\n",
       "</table>\n",
       "</div>"
      ],
      "text/plain": [
       "                    Country  Mortality_rate  Cases_per_ml  Deaths_per_ml  \\\n",
       "205               Greenland        0.000000    228.974020       0.000000   \n",
       "206              Montserrat        0.083333   2403.846154     200.320513   \n",
       "209   Caribbean Netherlands        0.000000    381.170192       0.000000   \n",
       "210  British Virgin Islands        0.125000    264.541516      33.067690   \n",
       "211               St. Barth        0.000000    607.348922       0.000000   \n",
       "\n",
       "     Recovered_per_ml  Active_per_ml  Critical_per_ml  Tests_per_ml  Clust_mem  \n",
       "205        228.974020       0.000000              0.0  91448.701013          0  \n",
       "206       2003.205128     200.320513              0.0  12219.551282          2  \n",
       "209        266.819135     114.351058              0.0  16161.616162          0  \n",
       "210        231.473827       0.000000              0.0  14516.715717          2  \n",
       "211        607.348922       0.000000              0.0  90798.663832          0  "
      ]
     },
     "execution_count": 40,
     "metadata": {},
     "output_type": "execute_result"
    }
   ],
   "source": [
    "#append cluster labels (membership) to the final dataframe, save it to csv\n",
    "df_final['Clust_mem'] = clusters_ac\n",
    "\n",
    "df_final.tail()"
   ]
  },
  {
   "cell_type": "code",
   "execution_count": 41,
   "metadata": {},
   "outputs": [],
   "source": [
    "df_final.to_csv(\"Final Dataframe - Covid19.csv\")"
   ]
  },
  {
   "cell_type": "markdown",
   "metadata": {},
   "source": [
    "9. Generate a data frame of cluster centers (means) and also save it to a CSV file. Note: even though we are using scaled data to obtain cluster solution, we append cluster membershiop feature and generate cluster centers using unscaled data for easy interpretation."
   ]
  },
  {
   "cell_type": "code",
   "execution_count": 42,
   "metadata": {},
   "outputs": [
    {
     "name": "stdout",
     "output_type": "stream",
     "text": [
      "           Mortality_rate  Cases_per_ml  Deaths_per_ml  Recovered_per_ml  \\\n",
      "Clust_mem                                                                  \n",
      "0                  0.0224     1562.9449        33.7694         1087.7581   \n",
      "1                  0.0181    16549.0857       229.6818        12688.9369   \n",
      "2                  0.1175     4727.3580       425.3985         3178.1901   \n",
      "\n",
      "           Active_per_ml  Critical_per_ml  Tests_per_ml  \n",
      "Clust_mem                                                \n",
      "0               441.4174           5.2403    62077.7402  \n",
      "1              3630.4671          43.3510   107780.1900  \n",
      "2              1070.9101           2.0925    76792.5291  \n"
     ]
    }
   ],
   "source": [
    "#compute cluster centers - for each cluster, hence using groupby, group for each cluster\n",
    "clust_cent_hc = pd.DataFrame(df_final.groupby('Clust_mem').mean().round(4))\n",
    "print(clust_cent_hc)"
   ]
  },
  {
   "cell_type": "code",
   "execution_count": 43,
   "metadata": {},
   "outputs": [],
   "source": [
    "#save the cluster centers dataframe to file\n",
    "clust_cent_hc.to_csv(\"cluster_centers.csv\")"
   ]
  },
  {
   "cell_type": "code",
   "execution_count": null,
   "metadata": {},
   "outputs": [],
   "source": []
  }
 ],
 "metadata": {
  "kernelspec": {
   "display_name": "Python 3",
   "language": "python",
   "name": "python3"
  },
  "language_info": {
   "codemirror_mode": {
    "name": "ipython",
    "version": 3
   },
   "file_extension": ".py",
   "mimetype": "text/x-python",
   "name": "python",
   "nbconvert_exporter": "python",
   "pygments_lexer": "ipython3",
   "version": "3.7.6"
  }
 },
 "nbformat": 4,
 "nbformat_minor": 4
}
